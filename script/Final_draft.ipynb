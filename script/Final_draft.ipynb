{
 "cells": [
  {
   "cell_type": "code",
   "execution_count": 262,
   "id": "094e1313",
   "metadata": {},
   "outputs": [],
   "source": [
    "import os\n",
    "import requests\n",
    "from requests.adapters import HTTPAdapter\n",
    "from requests.packages.urllib3.util.retry import Retry\n",
    "import pandas as pd\n",
    "import snowflake.connector\n",
    "from snowflake.connector.pandas_tools import write_pandas"
   ]
  },
  {
   "cell_type": "code",
   "execution_count": 264,
   "id": "858523e3",
   "metadata": {},
   "outputs": [],
   "source": [
    "# Setup retry strategy\n",
    "session = requests.Session()\n",
    "retry = Retry(total=5, backoff_factor=2, status_forcelist=[429, 500, 502, 503, 504])\n",
    "adapter = HTTPAdapter(max_retries=retry)\n",
    "session.mount(\"https://\", adapter)"
   ]
  },
  {
   "cell_type": "code",
   "execution_count": 265,
   "id": "586d7fef",
   "metadata": {},
   "outputs": [],
   "source": [
    "# Extraction layer\n",
    "def read_data(page=0):\n",
    "    \"\"\"\n",
    "    This function reads data from the collegescorecard api\n",
    "    page: the current page of the api\n",
    "    \"\"\"\n",
    "    # API parameters\n",
    "    API_KEY = \"\"\n",
    "    params = {\n",
    "        \"api_key\": API_KEY,\n",
    "        \"fields\": \"id,school.name,school.city,school.state,school.ownership,school.school_url,\"\n",
    "                  \"school.price_calculator_url,\"\n",
    "                  \"latest.admissions.admission_rate.overall,latest.cost.tuition.in_state,latest.cost.tuition.out_of_state,\"\n",
    "                  \"latest.earnings.10_yrs_after_entry.median,latest.admissions.sat_scores.average.overall,\"\n",
    "                  \"latest.completion.completion_rate_4yr_150nt,latest.student.demographics.student_faculty_ratio,\"\n",
    "                  \"school.carnegie_basic,latest.student.demographics.race_ethnicity.non_resident_alien,\"\n",
    "                  \"latest.school.instructional_expenditure_per_fte,latest.school.tuition_revenue_per_fte,\"\n",
    "                  \"latest.school.endowment.end,latest.student.retention_rate.four_year.full_time_pooled,\"\n",
    "                  \"latest.aid.pell_grant_rate,school,school.institutional_characteristics.level,school.carnegie_undergrad\",\n",
    "        \"per_page\": 100,  \n",
    "        \"page\": page\n",
    "    }\n",
    "    # Endpoint\n",
    "    BASE_URL = \"https://api.data.gov/ed/collegescorecard/v1/schools\"\n",
    "    try:\n",
    "        response = session.get(url=BASE_URL, params=params, timeout=30)\n",
    "        response.raise_for_status()  # Raise HTTP errors\n",
    "        results = response.json().get('results', [])\n",
    "        if not results:\n",
    "            print(f\"Warning: Empty response received on page {page}\")\n",
    "            return None\n",
    "        ownership_mapping = {1: \"Public\", 2: \"Private Nonprofit\", 3: \"Private For-Profit\"}\n",
    "        research_mapping = {15: 1, 16: 2, 27: 3,17:4, 18: 5, 19: 6, 20: 7} \n",
    "        program_type_mapping ={0:'Exclusively Graduate',\n",
    "                       1:'higher part-time',\n",
    "                       2:'mixed part/full-time',\n",
    "                       3:'medium full-time',\n",
    "                       4:'higher full-time',\n",
    "                       5:'higher part-time',\n",
    "                       6:'medium full-time, inclusive, lower transfer-in',\n",
    "                       7:'medium full-time, inclusive, higher transfer-in',\n",
    "                       8:'medium full-time, selective, lower transfer-in',\n",
    "                       9:'medium full-time , selective, higher transfer-in',\n",
    "                       10:'full-time, inclusive, lower transfer-in',\n",
    "                       11:'full-time, inclusive, higher transfer-in',\n",
    "                       12:'full-time, selective, lower transfer-in',\n",
    "                       13:'full-time, selective, higher transfer-in',\n",
    "                       14:'full-time, more selective, lower transfer-in',\n",
    "                       15:'full-time, more selective, higher transfer-in'\n",
    "                      }\n",
    "        duration_mapping ={1:'4-year',\n",
    "                   2:'2-year',\n",
    "                   3:'less_than_2_years'\n",
    "                              }\n",
    "                  \n",
    "        program_name_mapping={0:'Not classified',\n",
    "                      1:'Associates Colleges: High Transfer-High Traditional',\n",
    "                      3: 'Associates Colleges: High Transfer-High Nontraditional',\n",
    "                      4: 'Associates Colleges: Mixed Transfer/Career & Technical-High Traditional',\n",
    "                      5:'Associates Colleges: Mixed Transfer/Career & Technical-Mixed Traditional/Nontraditional',\n",
    "                      6:'Associates Colleges: Mixed Transfer/Career & Technical-High Nontraditional',\n",
    "                      7:'Associates Colleges: High Career & Technical-High Traditional',\n",
    "                      8:'Associates Colleges: High Career & Technical-Mixed Traditional/Nontraditional',\n",
    "                      9:'Associates Colleges: High Career & Technical-High Nontraditional',\n",
    "                      10:'Health Professions',\n",
    "                      11:'Technical Professions',\n",
    "                      12:'Arts & Design',\n",
    "                      13:'Other Fields',\n",
    "                      14:'Baccalaureate/Associates Colleges: Associates Dominant',\n",
    "                      15:'Doctoral Universities: Very High Research Activity',\n",
    "                      16:'Doctoral Universities: High Research Activity',\n",
    "                      17:'Doctoral/Professional Universities',\n",
    "                      18:'Masters Colleges & Universities: Larger Programs',\n",
    "                      19:'Masters Colleges & Universities: Medium Programs',\n",
    "                      20:'Masters Colleges & Universities: Small Programs',\n",
    "                      21:'Baccalaureate Colleges: Arts & Sciences Focus',\n",
    "                      22:'Baccalaureate Colleges: Diverse Fields',\n",
    "                      23:'Baccalaureate/Associates Colleges: Mixed Baccalaureate/Associates',\n",
    "                      24:'Faith-Related Institutions',\n",
    "                      25:'Medical Schools & Centers',\n",
    "                      26:'Other Health Professions Schools',\n",
    "                      27:'Research Institution',\n",
    "                      28:'Engineering and Other Technology-Related Schools',\n",
    "                      29:'Business & Management Schools',\n",
    "                      30:'Arts, Music & Design Schools',\n",
    "                      31:'Law Schools',\n",
    "                      32:'Other Special Focus Institutions',\n",
    "                      33:'Tribal Colleges'\n",
    "                                }\n",
    "        data_list =[]\n",
    "        for result in results:\n",
    "            data = {\n",
    "                'SCHOOL_ID': result.get('id'),\n",
    "                'NAME': result.get('school.name'),\n",
    "                'CITY': result.get('school.city'),\n",
    "                'STATE': result.get('school.state'),\n",
    "                'SCHOOL_TYPE': ownership_mapping.get(result.get('school.ownership'), 'Unknown'),\n",
    "                'SCHOOL_URL': result.get('school.school_url'),\n",
    "                'PRICE_CALCULATOR': result.get('school.price_calculator_url'),\n",
    "                'ADMISSION_RATE': result.get('latest.admissions.admission_rate.overall'),\n",
    "                'IN_STATE_TUITION': result.get('latest.cost.tuition.in_state'),\n",
    "                'OUT_OF_STATE_TUITION': result.get('latest.cost.tuition.out_of_state'),\n",
    "                'AVERAGE_SAT_SCORE': result.get('latest.admissions.sat_scores.average.overall'),\n",
    "                'EARNINGS_AFTER_10YRS': result.get('latest.earnings.10_yrs_after_entry.median'),\n",
    "                'GRADUATION_RATE': result.get('latest.completion.completion_rate_4yr_150nt'),\n",
    "                'faculty_quality': result.get('latest.student.demographics.student_faculty_ratio'),\n",
    "                'international_outlook': result.get('latest.student.demographics.race_ethnicity.non_resident_alien'),\n",
    "                'revenue_per_student': result.get('latest.school.tuition_revenue_per_fte'),\n",
    "                'spending_per_student': result.get('latest.school.instructional_expenditure_per_fte'),\n",
    "                'endowment': result.get('latest.school.endowment.end'),\n",
    "                'RETENTION_RATE': result.get('latest.student.retention_rate.four_year.full_time_pooled'),\n",
    "                'FINANCIAL_AID_PERCENT': result.get('latest.aid.pell_grant_rate'),\n",
    "                'PROGRAM_NAME':program_name_mapping.get(result.get('school.carnegie_basic'),'Unknown'),\n",
    "                'duration':duration_mapping.get(result.get('school.institutional_characteristics.level'),'Unknown'),\n",
    "                'PROGRAM_TYPE':program_type_mapping.get(result.get('school.carnegie_undergrad'),'Unknown'),\n",
    "                'research_output': research_mapping.get(result.get('school.carnegie_basic'), 8),\n",
    "                \n",
    "                }\n",
    "            data_list.append(data)\n",
    "        return data_list\n",
    "    except requests.exceptions.RequestException as e:\n",
    "        print(f\"API Request Error on page {page}: {e}\")\n",
    "        return None"
   ]
  },
  {
   "cell_type": "code",
   "execution_count": 266,
   "id": "0ff40b94",
   "metadata": {},
   "outputs": [],
   "source": [
    "data = []\n",
    "page= 0"
   ]
  },
  {
   "cell_type": "code",
   "execution_count": 267,
   "id": "f58141e1",
   "metadata": {},
   "outputs": [
    {
     "name": "stdout",
     "output_type": "stream",
     "text": [
      "Currently on page 1\n",
      "Currently on page 2\n",
      "Currently on page 3\n",
      "Currently on page 4\n",
      "Currently on page 5\n",
      "Currently on page 6\n",
      "Currently on page 7\n",
      "Currently on page 8\n",
      "Currently on page 9\n",
      "Currently on page 10\n",
      "Currently on page 11\n",
      "Currently on page 12\n",
      "Currently on page 13\n",
      "Currently on page 14\n",
      "Currently on page 15\n",
      "Currently on page 16\n",
      "Currently on page 17\n",
      "Currently on page 18\n",
      "Currently on page 19\n",
      "Currently on page 20\n",
      "Currently on page 21\n",
      "Currently on page 22\n",
      "Currently on page 23\n",
      "Currently on page 24\n",
      "Currently on page 25\n",
      "Currently on page 26\n",
      "Currently on page 27\n",
      "Currently on page 28\n",
      "Currently on page 29\n",
      "Currently on page 30\n",
      "Currently on page 31\n",
      "Currently on page 32\n",
      "Currently on page 33\n",
      "Currently on page 34\n",
      "Currently on page 35\n",
      "Currently on page 36\n",
      "Currently on page 37\n",
      "Currently on page 38\n",
      "Currently on page 39\n",
      "Currently on page 40\n",
      "Currently on page 41\n",
      "Currently on page 42\n",
      "Currently on page 43\n",
      "Currently on page 44\n",
      "Currently on page 45\n",
      "Currently on page 46\n",
      "Currently on page 47\n",
      "Currently on page 48\n",
      "Currently on page 49\n",
      "Currently on page 50\n",
      "Currently on page 51\n",
      "Currently on page 52\n",
      "Currently on page 53\n",
      "Currently on page 54\n",
      "Currently on page 55\n",
      "Currently on page 56\n",
      "Currently on page 57\n",
      "Currently on page 58\n",
      "Currently on page 59\n",
      "Currently on page 60\n",
      "Currently on page 61\n",
      "Currently on page 62\n",
      "Currently on page 63\n",
      "Currently on page 64\n",
      "Warning: Empty response received on page 65\n"
     ]
    }
   ],
   "source": [
    " while True:\n",
    "        page += 1\n",
    "        result = read_data(page=page)\n",
    "        if not result:\n",
    "            break\n",
    "        print(f\"Currently on page {page}\")\n",
    "        data.extend(result)"
   ]
  },
  {
   "cell_type": "code",
   "execution_count": 268,
   "id": "edb687a1",
   "metadata": {},
   "outputs": [],
   "source": [
    "df = pd.DataFrame(data)"
   ]
  },
  {
   "cell_type": "code",
   "execution_count": 270,
   "id": "458b7f86",
   "metadata": {},
   "outputs": [
    {
     "data": {
      "text/html": [
       "<div>\n",
       "<style scoped>\n",
       "    .dataframe tbody tr th:only-of-type {\n",
       "        vertical-align: middle;\n",
       "    }\n",
       "\n",
       "    .dataframe tbody tr th {\n",
       "        vertical-align: top;\n",
       "    }\n",
       "\n",
       "    .dataframe thead th {\n",
       "        text-align: right;\n",
       "    }\n",
       "</style>\n",
       "<table border=\"1\" class=\"dataframe\">\n",
       "  <thead>\n",
       "    <tr style=\"text-align: right;\">\n",
       "      <th></th>\n",
       "      <th>SCHOOL_ID</th>\n",
       "      <th>NAME</th>\n",
       "      <th>CITY</th>\n",
       "      <th>STATE</th>\n",
       "      <th>SCHOOL_TYPE</th>\n",
       "      <th>SCHOOL_URL</th>\n",
       "      <th>PRICE_CALCULATOR</th>\n",
       "      <th>ADMISSION_RATE</th>\n",
       "      <th>IN_STATE_TUITION</th>\n",
       "      <th>OUT_OF_STATE_TUITION</th>\n",
       "      <th>...</th>\n",
       "      <th>international_outlook</th>\n",
       "      <th>revenue_per_student</th>\n",
       "      <th>spending_per_student</th>\n",
       "      <th>endowment</th>\n",
       "      <th>RETENTION_RATE</th>\n",
       "      <th>FINANCIAL_AID_PERCENT</th>\n",
       "      <th>PROGRAM_NAME</th>\n",
       "      <th>duration</th>\n",
       "      <th>PROGRAM_TYPE</th>\n",
       "      <th>research_output</th>\n",
       "    </tr>\n",
       "  </thead>\n",
       "  <tbody>\n",
       "    <tr>\n",
       "      <th>0</th>\n",
       "      <td>105899</td>\n",
       "      <td>Arizona Christian University</td>\n",
       "      <td>Glendale</td>\n",
       "      <td>AZ</td>\n",
       "      <td>Private Nonprofit</td>\n",
       "      <td>arizonachristian.edu/</td>\n",
       "      <td>www.arizonachristian.edu/financial-aid/calcula...</td>\n",
       "      <td>0.7014</td>\n",
       "      <td>31650.0</td>\n",
       "      <td>31650.0</td>\n",
       "      <td>...</td>\n",
       "      <td>0.0321</td>\n",
       "      <td>12924.0</td>\n",
       "      <td>4421.0</td>\n",
       "      <td>419892.0</td>\n",
       "      <td>0.5439</td>\n",
       "      <td>0.3610</td>\n",
       "      <td>Baccalaureate Colleges: Diverse Fields</td>\n",
       "      <td>4-year</td>\n",
       "      <td>full-time, inclusive, higher transfer-in</td>\n",
       "      <td>8</td>\n",
       "    </tr>\n",
       "    <tr>\n",
       "      <th>1</th>\n",
       "      <td>106041</td>\n",
       "      <td>Universal Technical Institute of Arizona Inc</td>\n",
       "      <td>Avondale</td>\n",
       "      <td>AZ</td>\n",
       "      <td>Private For-Profit</td>\n",
       "      <td>www.uti.edu/</td>\n",
       "      <td>www.uti.edu/admissions/tuition</td>\n",
       "      <td>NaN</td>\n",
       "      <td>NaN</td>\n",
       "      <td>NaN</td>\n",
       "      <td>...</td>\n",
       "      <td>0.0000</td>\n",
       "      <td>16466.0</td>\n",
       "      <td>3292.0</td>\n",
       "      <td>NaN</td>\n",
       "      <td>NaN</td>\n",
       "      <td>0.4604</td>\n",
       "      <td>Technical Professions</td>\n",
       "      <td>2-year</td>\n",
       "      <td>higher full-time</td>\n",
       "      <td>8</td>\n",
       "    </tr>\n",
       "    <tr>\n",
       "      <th>2</th>\n",
       "      <td>106148</td>\n",
       "      <td>Yavapai College</td>\n",
       "      <td>Prescott</td>\n",
       "      <td>AZ</td>\n",
       "      <td>Public</td>\n",
       "      <td>https://www.yc.edu/</td>\n",
       "      <td>https://www.yc.edu/v6/public/compare/cost-comp...</td>\n",
       "      <td>NaN</td>\n",
       "      <td>2680.0</td>\n",
       "      <td>9340.0</td>\n",
       "      <td>...</td>\n",
       "      <td>0.0025</td>\n",
       "      <td>2099.0</td>\n",
       "      <td>7333.0</td>\n",
       "      <td>16353389.0</td>\n",
       "      <td>NaN</td>\n",
       "      <td>0.1991</td>\n",
       "      <td>Unknown</td>\n",
       "      <td>2-year</td>\n",
       "      <td>higher part-time</td>\n",
       "      <td>8</td>\n",
       "    </tr>\n",
       "    <tr>\n",
       "      <th>3</th>\n",
       "      <td>106245</td>\n",
       "      <td>University of Arkansas at Little Rock</td>\n",
       "      <td>Little Rock</td>\n",
       "      <td>AR</td>\n",
       "      <td>Public</td>\n",
       "      <td>ualr.edu/www/</td>\n",
       "      <td>ualr.edu/finaid/npc/npcalc.htm</td>\n",
       "      <td>0.6146</td>\n",
       "      <td>8366.0</td>\n",
       "      <td>18957.0</td>\n",
       "      <td>...</td>\n",
       "      <td>0.0283</td>\n",
       "      <td>5714.0</td>\n",
       "      <td>9365.0</td>\n",
       "      <td>159965311.0</td>\n",
       "      <td>0.6969</td>\n",
       "      <td>0.3971</td>\n",
       "      <td>Doctoral Universities: High Research Activity</td>\n",
       "      <td>4-year</td>\n",
       "      <td>medium full-time, inclusive, higher transfer-in</td>\n",
       "      <td>2</td>\n",
       "    </tr>\n",
       "    <tr>\n",
       "      <th>4</th>\n",
       "      <td>106263</td>\n",
       "      <td>University of Arkansas for Medical Sciences</td>\n",
       "      <td>Little Rock</td>\n",
       "      <td>AR</td>\n",
       "      <td>Public</td>\n",
       "      <td>https://www.uams.edu/</td>\n",
       "      <td>https://studentfinancialservices.uams.edu/tuit...</td>\n",
       "      <td>NaN</td>\n",
       "      <td>NaN</td>\n",
       "      <td>NaN</td>\n",
       "      <td>...</td>\n",
       "      <td>0.0039</td>\n",
       "      <td>16879.0</td>\n",
       "      <td>42864.0</td>\n",
       "      <td>348414506.0</td>\n",
       "      <td>NaN</td>\n",
       "      <td>0.3017</td>\n",
       "      <td>Research Institution</td>\n",
       "      <td>4-year</td>\n",
       "      <td>medium full-time, inclusive, higher transfer-in</td>\n",
       "      <td>3</td>\n",
       "    </tr>\n",
       "  </tbody>\n",
       "</table>\n",
       "<p>5 rows × 24 columns</p>\n",
       "</div>"
      ],
      "text/plain": [
       "   SCHOOL_ID                                          NAME         CITY STATE  \\\n",
       "0     105899                  Arizona Christian University     Glendale    AZ   \n",
       "1     106041  Universal Technical Institute of Arizona Inc     Avondale    AZ   \n",
       "2     106148                               Yavapai College     Prescott    AZ   \n",
       "3     106245         University of Arkansas at Little Rock  Little Rock    AR   \n",
       "4     106263   University of Arkansas for Medical Sciences  Little Rock    AR   \n",
       "\n",
       "          SCHOOL_TYPE             SCHOOL_URL  \\\n",
       "0   Private Nonprofit  arizonachristian.edu/   \n",
       "1  Private For-Profit           www.uti.edu/   \n",
       "2              Public    https://www.yc.edu/   \n",
       "3              Public          ualr.edu/www/   \n",
       "4              Public  https://www.uams.edu/   \n",
       "\n",
       "                                    PRICE_CALCULATOR  ADMISSION_RATE  \\\n",
       "0  www.arizonachristian.edu/financial-aid/calcula...          0.7014   \n",
       "1                     www.uti.edu/admissions/tuition             NaN   \n",
       "2  https://www.yc.edu/v6/public/compare/cost-comp...             NaN   \n",
       "3                     ualr.edu/finaid/npc/npcalc.htm          0.6146   \n",
       "4  https://studentfinancialservices.uams.edu/tuit...             NaN   \n",
       "\n",
       "   IN_STATE_TUITION  OUT_OF_STATE_TUITION  ...  international_outlook  \\\n",
       "0           31650.0               31650.0  ...                 0.0321   \n",
       "1               NaN                   NaN  ...                 0.0000   \n",
       "2            2680.0                9340.0  ...                 0.0025   \n",
       "3            8366.0               18957.0  ...                 0.0283   \n",
       "4               NaN                   NaN  ...                 0.0039   \n",
       "\n",
       "   revenue_per_student  spending_per_student    endowment  RETENTION_RATE  \\\n",
       "0              12924.0                4421.0     419892.0          0.5439   \n",
       "1              16466.0                3292.0          NaN             NaN   \n",
       "2               2099.0                7333.0   16353389.0             NaN   \n",
       "3               5714.0                9365.0  159965311.0          0.6969   \n",
       "4              16879.0               42864.0  348414506.0             NaN   \n",
       "\n",
       "   FINANCIAL_AID_PERCENT                                   PROGRAM_NAME  \\\n",
       "0                 0.3610         Baccalaureate Colleges: Diverse Fields   \n",
       "1                 0.4604                          Technical Professions   \n",
       "2                 0.1991                                        Unknown   \n",
       "3                 0.3971  Doctoral Universities: High Research Activity   \n",
       "4                 0.3017                           Research Institution   \n",
       "\n",
       "   duration                                     PROGRAM_TYPE  research_output  \n",
       "0    4-year         full-time, inclusive, higher transfer-in                8  \n",
       "1    2-year                                 higher full-time                8  \n",
       "2    2-year                                 higher part-time                8  \n",
       "3    4-year  medium full-time, inclusive, higher transfer-in                2  \n",
       "4    4-year  medium full-time, inclusive, higher transfer-in                3  \n",
       "\n",
       "[5 rows x 24 columns]"
      ]
     },
     "execution_count": 270,
     "metadata": {},
     "output_type": "execute_result"
    }
   ],
   "source": [
    "df.head()"
   ]
  },
  {
   "cell_type": "markdown",
   "id": "c3db026a",
   "metadata": {},
   "source": [
    "# Transformation layer"
   ]
  },
  {
   "cell_type": "code",
   "execution_count": 272,
   "id": "abf9f10b",
   "metadata": {},
   "outputs": [
    {
     "name": "stdout",
     "output_type": "stream",
     "text": [
      "<class 'pandas.core.frame.DataFrame'>\n",
      "RangeIndex: 6384 entries, 0 to 6383\n",
      "Data columns (total 24 columns):\n",
      " #   Column                 Non-Null Count  Dtype  \n",
      "---  ------                 --------------  -----  \n",
      " 0   SCHOOL_ID              6384 non-null   int64  \n",
      " 1   NAME                   6384 non-null   object \n",
      " 2   CITY                   6384 non-null   object \n",
      " 3   STATE                  6384 non-null   object \n",
      " 4   SCHOOL_TYPE            6384 non-null   object \n",
      " 5   SCHOOL_URL             6372 non-null   object \n",
      " 6   PRICE_CALCULATOR       5852 non-null   object \n",
      " 7   ADMISSION_RATE         1921 non-null   float64\n",
      " 8   IN_STATE_TUITION       3692 non-null   float64\n",
      " 9   OUT_OF_STATE_TUITION   3692 non-null   float64\n",
      " 10  AVERAGE_SAT_SCORE      1069 non-null   float64\n",
      " 11  EARNINGS_AFTER_10YRS   5260 non-null   float64\n",
      " 12  GRADUATION_RATE        2237 non-null   float64\n",
      " 13  faculty_quality        5603 non-null   float64\n",
      " 14  international_outlook  5617 non-null   float64\n",
      " 15  revenue_per_student    5860 non-null   float64\n",
      " 16  spending_per_student   5860 non-null   float64\n",
      " 17  endowment              2640 non-null   float64\n",
      " 18  RETENTION_RATE         2114 non-null   float64\n",
      " 19  FINANCIAL_AID_PERCENT  5573 non-null   float64\n",
      " 20  PROGRAM_NAME           6384 non-null   object \n",
      " 21  duration               6384 non-null   object \n",
      " 22  PROGRAM_TYPE           6384 non-null   object \n",
      " 23  research_output        6384 non-null   int64  \n",
      "dtypes: float64(13), int64(2), object(9)\n",
      "memory usage: 1.2+ MB\n"
     ]
    }
   ],
   "source": [
    "df.info()"
   ]
  },
  {
   "cell_type": "code",
   "execution_count": 273,
   "id": "6746d56f",
   "metadata": {},
   "outputs": [],
   "source": [
    "df_sorted = df.sort_values(\n",
    "    by=[\n",
    "        \"research_output\",\"ADMISSION_RATE\",\"GRADUATION_RATE\",\"EARNINGS_AFTER_10YRS\",\"faculty_quality\",\n",
    "        \"international_outlook\", \"revenue_per_student\", \"spending_per_student\",\n",
    "        \"endowment\"\n",
    "    ],\n",
    "    ascending=[True,True, False,False, True, False, False, False, False],\n",
    "    na_position='last'\n",
    ")"
   ]
  },
  {
   "cell_type": "code",
   "execution_count": 274,
   "id": "5e0bd59a",
   "metadata": {},
   "outputs": [],
   "source": [
    "df_top_1000=pd.DataFrame(df_sorted.head(1000))"
   ]
  },
  {
   "cell_type": "code",
   "execution_count": 277,
   "id": "051c5b89",
   "metadata": {},
   "outputs": [],
   "source": [
    "columns=['PRICE_CALCULATOR','IN_STATE_TUITION',\n",
    "         'OUT_OF_STATE_TUITION','AVERAGE_SAT_SCORE','EARNINGS_AFTER_10YRS',\n",
    "         'GRADUATION_RATE','international_outlook','revenue_per_student',\n",
    "         'spending_per_student','endowment','RETENTION_RATE','FINANCIAL_AID_PERCENT','faculty_quality']"
   ]
  },
  {
   "cell_type": "code",
   "execution_count": 280,
   "id": "550ebc51",
   "metadata": {},
   "outputs": [],
   "source": [
    "df_top_1000[columns]=df_top_1000[columns].fillna(0)"
   ]
  },
  {
   "cell_type": "code",
   "execution_count": 281,
   "id": "23ee3947",
   "metadata": {},
   "outputs": [],
   "source": [
    "df_top_1000['ADMISSION_RATE'].fillna(1,inplace=True)"
   ]
  },
  {
   "cell_type": "code",
   "execution_count": 282,
   "id": "ff2d355a",
   "metadata": {},
   "outputs": [],
   "source": [
    "df_top_1000[\"PRICE_CALCULATOR\"] = df_top_1000[\"PRICE_CALCULATOR\"].astype(str)"
   ]
  },
  {
   "cell_type": "markdown",
   "id": "f4a7cc9a",
   "metadata": {},
   "source": [
    "# Loading layer"
   ]
  },
  {
   "cell_type": "code",
   "execution_count": 283,
   "id": "840c1616",
   "metadata": {},
   "outputs": [],
   "source": [
    "conn = snowflake.connector.connect(\n",
    "    user='CHOICEUGWUEDE',\n",
    "    password='3sUEi4bqnQyehzB',\n",
    "    account='KVPAJQA-ZQ87651',\n",
    "    warehouse='DEC_WH',\n",
    "    database='UNIVERSITIES_DB',\n",
    "    schema='PUBLIC'\n",
    ")"
   ]
  },
  {
   "cell_type": "code",
   "execution_count": 284,
   "id": "f07f6143",
   "metadata": {},
   "outputs": [],
   "source": [
    "cur = conn.cursor()"
   ]
  },
  {
   "cell_type": "code",
   "execution_count": 285,
   "id": "afae4e46",
   "metadata": {},
   "outputs": [],
   "source": [
    "# EXTRACT UNIQUE PROGRAMS & PROGRAM TYPES \n",
    "dim_program = df_top_1000[['PROGRAM_NAME']].dropna().drop_duplicates().reset_index(drop=True)\n",
    "dim_program['PROGRAM_ID'] = range(1, len(dim_program) + 1)\n",
    "\n",
    "dim_program_type = df_top_1000[['PROGRAM_TYPE']].dropna().drop_duplicates().reset_index(drop=True)\n",
    "dim_program_type['PROGRAM_TYPE_ID'] = range(1, len(dim_program_type) + 1)"
   ]
  },
  {
   "cell_type": "code",
   "execution_count": 286,
   "id": "b1a52089",
   "metadata": {},
   "outputs": [
    {
     "name": "stdout",
     "output_type": "stream",
     "text": [
      "dimension tables created\n"
     ]
    }
   ],
   "source": [
    "# CREATE DIMENSION TABLES \n",
    "cur.execute(\"\"\"\n",
    "    CREATE TABLE IF NOT EXISTS dim_program (\n",
    "        program_id INT AUTOINCREMENT PRIMARY KEY,\n",
    "        program_name VARCHAR(255) UNIQUE\n",
    "    )\n",
    "\"\"\")\n",
    "\n",
    "cur.execute(\"\"\"\n",
    "    CREATE TABLE IF NOT EXISTS dim_program_type (\n",
    "        program_type_id INT AUTOINCREMENT PRIMARY KEY,\n",
    "        program_type VARCHAR(255) UNIQUE\n",
    "    )\n",
    "\"\"\")\n",
    "print(\"dimension tables created\")"
   ]
  },
  {
   "cell_type": "code",
   "execution_count": 287,
   "id": "e7264111",
   "metadata": {},
   "outputs": [],
   "source": [
    "# Load DataFrame into a Snowflake temporary table and upsert into main table \n",
    "def upsert_dimension_table(table_name, df, key_column, value_column):\n",
    "    temp_table = f\"staging_{table_name}\"\n",
    "    \n",
    "    # Create Staging Table\n",
    "    cur.execute(f\"CREATE OR REPLACE TEMP TABLE {temp_table} AS SELECT * FROM {table_name} WHERE 1=0\")\n",
    "\n",
    "    # Load Data into Staging Table\n",
    "    for _, row in df.iterrows():\n",
    "        cur.execute(f\"\"\"\n",
    "            INSERT INTO {temp_table} ({value_column})\n",
    "            SELECT '{row[value_column]}' WHERE NOT EXISTS (\n",
    "                SELECT 1 FROM {table_name} WHERE {value_column} = '{row[value_column]}'\n",
    "            )\n",
    "        \"\"\")\n",
    "\n",
    "    # Merge Data from Staging to Main Table\n",
    "    cur.execute(f\"\"\"\n",
    "        MERGE INTO {table_name} AS target\n",
    "        USING {temp_table} AS source\n",
    "        ON target.{value_column} = source.{value_column}\n",
    "        WHEN NOT MATCHED THEN INSERT ({value_column}) VALUES (source.{value_column});\n",
    "    \"\"\")\n",
    "\n"
   ]
  },
  {
   "cell_type": "code",
   "execution_count": 289,
   "id": "72061d9e",
   "metadata": {},
   "outputs": [
    {
     "name": "stdout",
     "output_type": "stream",
     "text": [
      "Dimension tables upsert successful!\n"
     ]
    }
   ],
   "source": [
    "# Perform Upserts\n",
    "upsert_dimension_table('dim_program', dim_program, 'program_id', 'PROGRAM_NAME')\n",
    "upsert_dimension_table('dim_program_type', dim_program_type, 'program_type_id', 'PROGRAM_TYPE')\n",
    "print(\"Dimension tables upsert successful!\")"
   ]
  },
  {
   "cell_type": "code",
   "execution_count": 290,
   "id": "8157755b",
   "metadata": {},
   "outputs": [],
   "source": [
    "# MAP PROGRAM & PROGRAM TYPE IDs BACK TO OUR DF\n",
    "df_top_1000 = df_top_1000.merge(dim_program, on='PROGRAM_NAME', how='left')\n",
    "df_top_1000 = df_top_1000.merge(dim_program_type, on='PROGRAM_TYPE', how='left')"
   ]
  },
  {
   "cell_type": "markdown",
   "id": "51f0dbd5",
   "metadata": {},
   "source": [
    "## University fact table"
   ]
  },
  {
   "cell_type": "code",
   "execution_count": 291,
   "id": "788117e7",
   "metadata": {},
   "outputs": [
    {
     "data": {
      "text/plain": [
       "<snowflake.connector.cursor.SnowflakeCursor at 0x29606131690>"
      ]
     },
     "execution_count": 291,
     "metadata": {},
     "output_type": "execute_result"
    }
   ],
   "source": [
    "#Create staging table \n",
    "cur.execute(\"CREATE OR REPLACE TEMP TABLE staging_university AS SELECT * FROM university WHERE 1=0\")"
   ]
  },
  {
   "cell_type": "code",
   "execution_count": 292,
   "id": "f713d1d7",
   "metadata": {},
   "outputs": [],
   "source": [
    "df_top_1000 = df_top_1000.reset_index(drop=True)"
   ]
  },
  {
   "cell_type": "code",
   "execution_count": 293,
   "id": "94be8998",
   "metadata": {},
   "outputs": [],
   "source": [
    "columns=['SCHOOL_ID','NAME','CITY','STATE','SCHOOL_URL','ADMISSION_RATE','PRICE_CALCULATOR','FINANCIAL_AID_PERCENT',\n",
    "         'IN_STATE_TUITION','OUT_OF_STATE_TUITION','RETENTION_RATE','GRADUATION_RATE','AVERAGE_SAT_SCORE',\n",
    "         'EARNINGS_AFTER_10YRS','SCHOOL_TYPE','PROGRAM_ID','PROGRAM_TYPE_ID'\n",
    "]"
   ]
  },
  {
   "cell_type": "code",
   "execution_count": 294,
   "id": "71470a32",
   "metadata": {},
   "outputs": [],
   "source": [
    "df_university=df_top_1000[columns]"
   ]
  },
  {
   "cell_type": "code",
   "execution_count": 295,
   "id": "916d068e",
   "metadata": {},
   "outputs": [],
   "source": [
    "#conn.cursor().execute(\"TRUNCATE TABLE STAGING_UNIVERSITY\")"
   ]
  },
  {
   "cell_type": "code",
   "execution_count": 296,
   "id": "c3a5e327",
   "metadata": {},
   "outputs": [
    {
     "name": "stdout",
     "output_type": "stream",
     "text": [
      "Data successfully loaded into staging_university!\n"
     ]
    }
   ],
   "source": [
    "success, row_count, total_rows, load_details = write_pandas(conn, df_university, \"STAGING_UNIVERSITY\")\n",
    "if success:\n",
    "    print(\"Data successfully loaded into staging_university!\")"
   ]
  },
  {
   "cell_type": "code",
   "execution_count": 297,
   "id": "5d34f6b7",
   "metadata": {},
   "outputs": [
    {
     "name": "stdout",
     "output_type": "stream",
     "text": [
      "Updated program_id successfully in staging_university.\n"
     ]
    }
   ],
   "source": [
    "update_program_id_query = \"\"\"\n",
    "MERGE INTO staging_university su\n",
    "USING dim_program p\n",
    "ON su.program_id = p.program_id\n",
    "WHEN MATCHED THEN\n",
    "    UPDATE SET su.program_id = p.program_id;\n",
    "\"\"\"\n",
    "cur.execute(update_program_id_query)\n",
    "conn.commit()\n",
    "print(\"Updated program_id successfully in staging_university.\")\n"
   ]
  },
  {
   "cell_type": "code",
   "execution_count": 298,
   "id": "b7ed2e44",
   "metadata": {},
   "outputs": [
    {
     "name": "stdout",
     "output_type": "stream",
     "text": [
      "Updated program_type_id successfully in staging_university.\n"
     ]
    }
   ],
   "source": [
    "update_program_type_id_query = \"\"\"\n",
    "MERGE INTO staging_university su\n",
    "USING dim_program_type pt\n",
    "ON su.program_type_id = pt.program_type_id\n",
    "WHEN MATCHED THEN\n",
    "    UPDATE SET su.program_type_id = pt.program_type_id;\n",
    "\"\"\"\n",
    "cur.execute(update_program_type_id_query)\n",
    "conn.commit()\n",
    "print(\"Updated program_type_id successfully in staging_university.\")\n"
   ]
  },
  {
   "cell_type": "code",
   "execution_count": 300,
   "id": "d6472fd5",
   "metadata": {},
   "outputs": [
    {
     "name": "stdout",
     "output_type": "stream",
     "text": [
      "Update and merge operations completed successfully!\n"
     ]
    }
   ],
   "source": [
    "# Merge data from staging_university into university\n",
    "merge_query = \"\"\"\n",
    "MERGE INTO university AS u\n",
    "USING staging_university AS s\n",
    "ON u.school_id = s.school_id  \n",
    "WHEN MATCHED THEN \n",
    "    UPDATE SET \n",
    "        u.name = s.name,\n",
    "        u.city = s.city,\n",
    "        u.state = s.state,\n",
    "        u.school_url = s.school_url,\n",
    "        u.admission_rate = s.admission_rate,  \n",
    "        u.price_calculator = s.price_calculator,\n",
    "        u.in_state_tuition = s.in_state_tuition,\n",
    "        u.out_of_state_tuition = s.out_of_state_tuition,\n",
    "        u.average_sat_score = s.average_sat_score,\n",
    "        u.earnings_after_10yrs = s.earnings_after_10yrs,\n",
    "        u.graduation_rate = s.graduation_rate,\n",
    "        u.retention_rate = s.retention_rate,\n",
    "        u.financial_aid_percent = s.financial_aid_percent,\n",
    "        u.program_id = s.program_id,  \n",
    "        u.program_type_id = s.program_type_id,  \n",
    "        u.school_type = s.school_type\n",
    "WHEN NOT MATCHED THEN\n",
    "    INSERT (\n",
    "        school_id, name, city, state, school_url,\n",
    "        price_calculator, admission_rate,\n",
    "        in_state_tuition, out_of_state_tuition, average_sat_score,\n",
    "        earnings_after_10yrs, graduation_rate,\n",
    "        retention_rate, financial_aid_percent,\n",
    "        program_id, program_type_id, school_type\n",
    "    ) VALUES (\n",
    "        s.school_id, s.name, s.city, s.state, s.school_url,\n",
    "        s.price_calculator, s.admission_rate,\n",
    "        s.in_state_tuition, s.out_of_state_tuition, s.average_sat_score,\n",
    "        s.earnings_after_10yrs, s.graduation_rate,\n",
    "        s.retention_rate, s.financial_aid_percent,\n",
    "        s.program_id, s.program_type_id, s.school_type\n",
    "    );\n",
    "\"\"\"\n",
    "\n",
    "cur.execute(merge_query)\n",
    "conn.commit()  \n",
    "\n",
    "print(\"Update and merge operations completed successfully!\")\n"
   ]
  },
  {
   "cell_type": "code",
   "execution_count": null,
   "id": "bdfa4643",
   "metadata": {},
   "outputs": [],
   "source": []
  }
 ],
 "metadata": {
  "kernelspec": {
   "display_name": "Python 3 (ipykernel)",
   "language": "python",
   "name": "python3"
  },
  "language_info": {
   "codemirror_mode": {
    "name": "ipython",
    "version": 3
   },
   "file_extension": ".py",
   "mimetype": "text/x-python",
   "name": "python",
   "nbconvert_exporter": "python",
   "pygments_lexer": "ipython3",
   "version": "3.11.5"
  }
 },
 "nbformat": 4,
 "nbformat_minor": 5
}
